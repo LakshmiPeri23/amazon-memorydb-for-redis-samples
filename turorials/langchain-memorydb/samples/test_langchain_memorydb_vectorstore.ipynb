{
 "cells": [
  {
   "cell_type": "markdown",
   "id": "ab12c3b6-3a7b-49db-a3ea-033ac8aab958",
   "metadata": {},
   "source": [
    "### OpenAI Embeddings"
   ]
  },
  {
   "cell_type": "code",
   "execution_count": null,
   "id": "8906310b-4e70-4c79-a35e-dec9be9a3b79",
   "metadata": {},
   "outputs": [],
   "source": [
    "import getpass\n",
    "import os\n",
    "from langchain.embeddings import OpenAIEmbeddings\n",
    "\n",
    "os.environ[\"OPENAI_API_KEY\"] = getpass.getpass(\"OpenAI API Key:\")\n",
    "embeddings = OpenAIEmbeddings()"
   ]
  },
  {
   "cell_type": "code",
   "execution_count": null,
   "id": "0ec19b7f-0e63-4f5e-8e66-ce88139a624c",
   "metadata": {},
   "outputs": [],
   "source": [
    "metadata = [\n",
    "    {\n",
    "        \"user\": \"john\",\n",
    "        \"age\": 18,\n",
    "        \"job\": \"engineer\",\n",
    "        \"credit_score\": \"high\",\n",
    "    },\n",
    "    {\n",
    "        \"user\": \"derrick\",\n",
    "        \"age\": 45,\n",
    "        \"job\": \"doctor\",\n",
    "        \"credit_score\": \"low\",\n",
    "    },\n",
    "    {\n",
    "        \"user\": \"nancy\",\n",
    "        \"age\": 94,\n",
    "        \"job\": \"doctor\",\n",
    "        \"credit_score\": \"high\",\n",
    "    },\n",
    "    {\n",
    "        \"user\": \"tyler\",\n",
    "        \"age\": 100,\n",
    "        \"job\": \"engineer\",\n",
    "        \"credit_score\": \"high\",\n",
    "    },\n",
    "    {\n",
    "        \"user\": \"joe\",\n",
    "        \"age\": 35,\n",
    "        \"job\": \"dentist\",\n",
    "        \"credit_score\": \"medium\",\n",
    "    },\n",
    "]\n",
    "\n",
    "texts = [\"foo\", \"foo\", \"foo\", \"bar\", \"bar\"]"
   ]
  },
  {
   "cell_type": "markdown",
   "id": "0cb86993-4db4-4b90-a179-79e1d5704895",
   "metadata": {},
   "source": [
    "### MemoryDB VectorStore"
   ]
  },
  {
   "cell_type": "code",
   "execution_count": null,
   "id": "8f21e73a-c4c5-4843-bb50-e3171c43a1a8",
   "metadata": {},
   "outputs": [],
   "source": [
    "REDIS_HOST = 'localhost'\n",
    "REDIS_URL = f\"rediss://{REDIS_HOST}:6379/ssl=True&ssl_cert_reqs=none\"\n",
    "INDEX_NAME = 'idx:vss4'"
   ]
  },
  {
   "cell_type": "code",
   "execution_count": null,
   "id": "a5035eb8-7f3f-44c0-a2e6-46789b492f40",
   "metadata": {},
   "outputs": [],
   "source": [
    "#### from_texts"
   ]
  },
  {
   "cell_type": "code",
   "execution_count": null,
   "id": "2972f717-6caa-4a53-af69-99996faa7952",
   "metadata": {},
   "outputs": [],
   "source": [
    "from langchain_memorydb import MemoryDB as Redis\n",
    "\n",
    "%time\n",
    "redisearch = Redis.from_texts(\n",
    "    texts,\n",
    "    embeddings,\n",
    "    metadatas = metadata,\n",
    "    redis_url = REDIS_URL,\n",
    "    index_name = INDEX_NAME,\n",
    ")"
   ]
  },
  {
   "cell_type": "code",
   "execution_count": null,
   "id": "35f118e5-02ea-4bb7-8ace-560e3ef5816c",
   "metadata": {},
   "outputs": [],
   "source": [
    "import redis\n",
    "client = redis.Redis(host = REDIS_HOST, port=6379, decode_responses=True, ssl=True, ssl_cert_reqs=\"none\")\n",
    "client.execute_command('ft._list')"
   ]
  },
  {
   "cell_type": "code",
   "execution_count": null,
   "id": "b39077f3-c4c0-42ac-8e60-d871152eed89",
   "metadata": {},
   "outputs": [],
   "source": [
    "client.ft(INDEX_NAME).info()"
   ]
  },
  {
   "cell_type": "code",
   "execution_count": null,
   "id": "4eb2cc03-3241-49dd-9ce2-587d2fe2bc16",
   "metadata": {},
   "outputs": [],
   "source": [
    "query = \"What is the company's strategy for generative AI?\"\n",
    "%time\n",
    "results = redisearch.similarity_search(query)\n",
    "results"
   ]
  },
  {
   "cell_type": "code",
   "execution_count": null,
   "id": "23a54521-c78b-4ef5-871a-f11e3626d751",
   "metadata": {},
   "outputs": [],
   "source": [
    "### from_existing_index"
   ]
  },
  {
   "cell_type": "code",
   "execution_count": null,
   "id": "b5fac167-5838-43c6-81f6-4cd0a89615de",
   "metadata": {},
   "outputs": [],
   "source": [
    "from langchain_memorydb import MemoryDB as Redis\n",
    "from langchain.embeddings import OpenAIEmbeddings\n",
    "\n",
    "embeddings = OpenAIEmbeddings()\n",
    "redisearch = Redis.from_existing_index(\n",
    "    embeddings,\n",
    "    index_name=INDEX_NAME,\n",
    "    schema=\"\",\n",
    "    redis_url=REDIS_URL,\n",
    ")\n",
    "\n",
    "query = \"What is the company's strategy for generative AI?\"\n",
    "%time\n",
    "results = redisearch.similarity_search(query)\n",
    "results"
   ]
  }
 ],
 "metadata": {
  "kernelspec": {
   "display_name": "Python 3 (ipykernel)",
   "language": "python",
   "name": "python3"
  },
  "language_info": {
   "codemirror_mode": {
    "name": "ipython",
    "version": 3
   },
   "file_extension": ".py",
   "mimetype": "text/x-python",
   "name": "python",
   "nbconvert_exporter": "python",
   "pygments_lexer": "ipython3",
   "version": "3.10.12"
  }
 },
 "nbformat": 4,
 "nbformat_minor": 5
}
